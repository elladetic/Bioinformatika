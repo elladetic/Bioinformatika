{
 "cells": [
  {
   "cell_type": "markdown",
   "metadata": {},
   "source": [
    "# Bioinformatika 1. zadatak"
   ]
  },
  {
   "cell_type": "markdown",
   "metadata": {},
   "source": [
    "Tekst zadatka:\n",
    "Odredite optimalno poravnanje za neki par nizova; matrica ovdje, i aminokiseline ovdje; algoritam koji zelite napraviti zove se Needleman-Wunsch, i njegov kostur je ovdje (treba samo dodati traceback)."
   ]
  },
  {
   "cell_type": "code",
   "execution_count": 3,
   "metadata": {},
   "outputs": [],
   "source": [
    "f1=open(\"acids.txt\", \"r\") ##otvara popis svih aminokiselina\n",
    "ak=f1.readline() #string onaj u datoteki aminokiselina\n",
    "f1.close()  #zatvara datoteku\n",
    "\n",
    "bm=[] #matrica u koju spremamo sadržaj iz blosum50\n",
    "f1=open(\"blosum50.txt\", \"r\")\n",
    "for i in range(20):\n",
    "    line=f1.readline()\n",
    "\n",
    "    vc=line.split()\n",
    "    bm.append(vc[:])\n",
    "for i in range(20):\n",
    "    for j in range(20):\n",
    "        bm[i][j]=int(bm[i][j]) #pretvara string u broj\n",
    "f1.close() #zatvara datoteku"
   ]
  },
  {
   "cell_type": "code",
   "execution_count": 4,
   "metadata": {},
   "outputs": [],
   "source": [
    "x='HPEW'\n",
    "y='PW'\n",
    "m=len(x)\n",
    "n=len(y)\n",
    "\n",
    "sm=[]\n",
    "tmp=[]\n",
    "for i in range(m+1):\n",
    "    tmp.append(0)\n",
    "for i in range(n+1):\n",
    "    sm.append(tmp[:])\n",
    "\n",
    "\n",
    "for i in range(n+1): #rubni uvjeti\n",
    "    sm[i][0]=-8*i\n",
    "for i in range(m+1):\n",
    "    sm[0][i]=-8*i\n",
    "\n",
    "\n",
    "for i in range(1,n+1): #rekurzija\n",
    "    for j in range(1,m+1):\n",
    "        tmp=[]\n",
    "        tmp.append(sm[i-1][j]-8)\n",
    "        tmp.append(sm[i][j-1]-8)\n",
    "        bb=bm[ak.index(y[i-1])][ak.index(x[j-1])]\n",
    "        tmp.append(sm[i-1][j-1]+bb)\n",
    "        tmp.sort()\n",
    "        sm[i][j]=tmp[2]"
   ]
  },
  {
   "cell_type": "code",
   "execution_count": 5,
   "metadata": {},
   "outputs": [
    {
     "data": {
      "text/plain": [
       "array([[  0,  -8, -16, -24, -32],\n",
       "       [ -8,  -2,   2,  -6, -14],\n",
       "       [-16, -10,  -6,  -1,   9]])"
      ]
     },
     "execution_count": 5,
     "metadata": {},
     "output_type": "execute_result"
    }
   ],
   "source": [
    "import numpy as np\n",
    "\n",
    "sm #score matrica\n",
    "sm2 = np.array(sm)  ##zbog lakše vizualizacija\n",
    "sm2"
   ]
  },
  {
   "cell_type": "markdown",
   "metadata": {},
   "source": [
    "## Traceback"
   ]
  },
  {
   "cell_type": "code",
   "execution_count": 6,
   "metadata": {},
   "outputs": [
    {
     "name": "stdout",
     "output_type": "stream",
     "text": [
      "4\n",
      "Dijagonalno ['W'] ['W']\n",
      "Lijevo ['W', 'E'] ['W', '-']\n",
      "Dijagonalno ['W', 'E', 'P'] ['W', '-', 'P']\n",
      "Lijevo ['W', 'E', 'P', 'H'] ['W', '-', 'P', '-']\n",
      "HPEW\n",
      "-P-W\n"
     ]
    }
   ],
   "source": [
    "i=len(y)\n",
    "j=len(x)\n",
    "print(j)\n",
    "a=[]\n",
    "b=[]\n",
    "#8 je kazna poravnanja, kad imam -, prof zadao\n",
    "while i>0 or j>0:\n",
    "    if sm[i][j]==sm[i-1][j]-8: #provjerava gore\n",
    "        a.append('-')\n",
    "        b.append(y[i-1])\n",
    "        i=i-1\n",
    "        print(\"Desno\",a,b)\n",
    "    if sm[i][j]==sm[i][j-1]-8: #provjera lijevo\n",
    "        b.append('-')\n",
    "        a.append(x[j-1])\n",
    "        j=j-1\n",
    "        print(\"Lijevo\",a,b)\n",
    "    else:  #provjerava dijagonalno\n",
    "       a.append(x[j-1])\n",
    "       b.append(y[i-1])\n",
    "       j=j-1\n",
    "       i=i-1\n",
    "       print(\"Dijagonalno\",a,b)\n",
    "\n",
    "if i==0 and j>0:  #dođem do gornjeg ruba\n",
    "    while j<0:\n",
    "        a.append(x[j-1])\n",
    "        b.append('-')\n",
    "        z=z-1\n",
    "if j==0 and i>0:  #dođem do lijevog ruba\n",
    "    while i<0:\n",
    "        a.append('-')\n",
    "        b.append(y[i-1])\n",
    "        i=i-1\n",
    "        \n",
    "a.reverse()\n",
    "b.reverse()\n",
    "ln=len(a)\n",
    "x1=''\n",
    "y1=''\n",
    "for i in range (ln):\n",
    "    x1=x1+a[i]\n",
    "    y1=y1+b[i]\n",
    "print(x1)\n",
    "print(y1)"
   ]
  }
 ],
 "metadata": {
  "interpreter": {
   "hash": "773740b4984c6632ffcb27aaafcca6baaa2eb7b4bacfcdc42734240524418bea"
  },
  "kernelspec": {
   "display_name": "Python 3.8.5 64-bit ('base': conda)",
   "name": "python3"
  },
  "language_info": {
   "codemirror_mode": {
    "name": "ipython",
    "version": 3
   },
   "file_extension": ".py",
   "mimetype": "text/x-python",
   "name": "python",
   "nbconvert_exporter": "python",
   "pygments_lexer": "ipython3",
   "version": "3.8.5"
  }
 },
 "nbformat": 4,
 "nbformat_minor": 4
}

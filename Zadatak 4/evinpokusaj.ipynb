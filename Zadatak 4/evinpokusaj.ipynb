{
 "cells": [
  {
   "cell_type": "code",
   "execution_count": 15,
   "metadata": {},
   "outputs": [
    {
     "name": "stderr",
     "output_type": "stream",
     "text": [
      "usage: ipykernel_launcher.py [-h] model_path 39403 [39403 ...]\n",
      "ipykernel_launcher.py: error: the following arguments are required: model_path, 39403\n"
     ]
    },
    {
     "ename": "SystemExit",
     "evalue": "2",
     "output_type": "error",
     "traceback": [
      "An exception has occurred, use %tb to see the full traceback.\n",
      "\u001b[0;31mSystemExit\u001b[0m\u001b[0;31m:\u001b[0m 2\n"
     ]
    }
   ],
   "source": [
    "from model import model\n",
    "from viterbi import viterbi\n",
    "\n",
    "import argparse\n",
    "\n",
    "# Parse CLI arguments\n",
    "args_parser = argparse.ArgumentParser(\n",
    "\tformatter_class = argparse.ArgumentDefaultsHelpFormatter\n",
    ")\n",
    "\n",
    "args_parser.add_argument(\n",
    "\t\"model_path\",\n",
    "\ttype = str,\n",
    "\thelp = \"JSON model definition file path\"\n",
    ")\n",
    "\n",
    "args_parser.add_argument(\n",
    "    \"39403\",\n",
    "    type = str,\n",
    "    nargs = \"+\",\n",
    "    help = \"Sequence of observations (emitted symbols)\"\n",
    ")\n",
    "\n",
    "args = args_parser.parse_args()\n",
    "\n",
    "# Run Viterbi algorithm\n",
    "m = model(args.model_path)\n",
    "o = args.observations\n",
    "\n",
    "state_sequence = viterbi(o, m)\n",
    "print(state_sequence)"
   ]
  },
  {
   "cell_type": "code",
   "execution_count": null,
   "metadata": {},
   "outputs": [],
   "source": []
  },
  {
   "cell_type": "code",
   "execution_count": null,
   "metadata": {},
   "outputs": [],
   "source": []
  }
 ],
 "metadata": {
  "interpreter": {
   "hash": "eeb592eeb14baf80ba7e3ad598b9cc718d92fa62785d72005ca19f7c0e0c833d"
  },
  "kernelspec": {
   "display_name": "Python 3.8.5 64-bit ('base': conda)",
   "name": "python3"
  },
  "language_info": {
   "codemirror_mode": {
    "name": "ipython",
    "version": 3
   },
   "file_extension": ".py",
   "mimetype": "text/x-python",
   "name": "python",
   "nbconvert_exporter": "python",
   "pygments_lexer": "ipython3",
   "version": "3.8.5"
  },
  "orig_nbformat": 4
 },
 "nbformat": 4,
 "nbformat_minor": 2
}

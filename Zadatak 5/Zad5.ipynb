{
 "cells": [
  {
   "cell_type": "markdown",
   "metadata": {},
   "source": [
    "### Zadatak broj 5"
   ]
  },
  {
   "cell_type": "code",
   "execution_count": 4,
   "metadata": {},
   "outputs": [],
   "source": [
    "import pandas as pd"
   ]
  },
  {
   "cell_type": "code",
   "execution_count": 16,
   "metadata": {},
   "outputs": [],
   "source": [
    "data = pd.read_csv('data.txt', sep=\",\")"
   ]
  },
  {
   "cell_type": "code",
   "execution_count": 17,
   "metadata": {},
   "outputs": [
    {
     "data": {
      "text/html": [
       "<div>\n",
       "<style scoped>\n",
       "    .dataframe tbody tr th:only-of-type {\n",
       "        vertical-align: middle;\n",
       "    }\n",
       "\n",
       "    .dataframe tbody tr th {\n",
       "        vertical-align: top;\n",
       "    }\n",
       "\n",
       "    .dataframe thead th {\n",
       "        text-align: right;\n",
       "    }\n",
       "</style>\n",
       "<table border=\"1\" class=\"dataframe\">\n",
       "  <thead>\n",
       "    <tr style=\"text-align: right;\">\n",
       "      <th></th>\n",
       "      <th>Province/State</th>\n",
       "      <th>Country/Region</th>\n",
       "      <th>Lat</th>\n",
       "      <th>Long</th>\n",
       "      <th>1/22/20</th>\n",
       "      <th>1/23/20</th>\n",
       "      <th>1/24/20</th>\n",
       "      <th>1/25/20</th>\n",
       "      <th>1/26/20</th>\n",
       "      <th>1/27/20</th>\n",
       "      <th>...</th>\n",
       "      <th>9/8/21</th>\n",
       "      <th>9/9/21</th>\n",
       "      <th>9/10/21</th>\n",
       "      <th>9/11/21</th>\n",
       "      <th>9/12/21</th>\n",
       "      <th>9/13/21</th>\n",
       "      <th>9/14/21</th>\n",
       "      <th>9/15/21</th>\n",
       "      <th>9/16/21</th>\n",
       "      <th>9/17/21</th>\n",
       "    </tr>\n",
       "  </thead>\n",
       "  <tbody>\n",
       "    <tr>\n",
       "      <th>0</th>\n",
       "      <td>NaN</td>\n",
       "      <td>Croatia</td>\n",
       "      <td>45.1</td>\n",
       "      <td>15.2</td>\n",
       "      <td>0</td>\n",
       "      <td>0</td>\n",
       "      <td>0</td>\n",
       "      <td>0</td>\n",
       "      <td>0</td>\n",
       "      <td>0</td>\n",
       "      <td>...</td>\n",
       "      <td>379963</td>\n",
       "      <td>380904</td>\n",
       "      <td>381946</td>\n",
       "      <td>383108</td>\n",
       "      <td>383915</td>\n",
       "      <td>384082</td>\n",
       "      <td>385056</td>\n",
       "      <td>386891</td>\n",
       "      <td>388260</td>\n",
       "      <td>389654</td>\n",
       "    </tr>\n",
       "  </tbody>\n",
       "</table>\n",
       "<p>1 rows × 609 columns</p>\n",
       "</div>"
      ],
      "text/plain": [
       "   Province/State Country/Region   Lat  Long  1/22/20  1/23/20  1/24/20  \\\n",
       "0             NaN        Croatia  45.1  15.2        0        0        0   \n",
       "\n",
       "   1/25/20  1/26/20  1/27/20  ...  9/8/21  9/9/21  9/10/21  9/11/21  9/12/21  \\\n",
       "0        0        0        0  ...  379963  380904   381946   383108   383915   \n",
       "\n",
       "   9/13/21  9/14/21  9/15/21  9/16/21  9/17/21  \n",
       "0   384082   385056   386891   388260   389654  \n",
       "\n",
       "[1 rows x 609 columns]"
      ]
     },
     "execution_count": 17,
     "metadata": {},
     "output_type": "execute_result"
    }
   ],
   "source": [
    "data"
   ]
  },
  {
   "cell_type": "code",
   "execution_count": null,
   "metadata": {},
   "outputs": [],
   "source": []
  }
 ],
 "metadata": {
  "language_info": {
   "name": "python"
  },
  "orig_nbformat": 4
 },
 "nbformat": 4,
 "nbformat_minor": 2
}

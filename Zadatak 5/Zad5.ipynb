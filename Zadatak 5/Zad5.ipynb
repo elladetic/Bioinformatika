{
 "cells": [
  {
   "cell_type": "markdown",
   "metadata": {},
   "source": [
    "### Zadatak broj 5\n",
    "- kumulativnost -> oduzmem susjedne, dobivam dnevne\n",
    "- periodicnost je 7 -> logicno, to mogu dobiti lako\n",
    "- gledamo sedmodnevni prosjek for each w\n",
    "- gledamo stopu zarazenih u odnosu na velicinu populacije \n",
    "- brojke pretvorimo u neke simbole - malo, srednje, puno i jako puno - 4 kategorije znaci A B C D E \n",
    "- nakon toga to napravimo za austriju\n",
    "- pitanje je jel ih mozemo poravnati - nalazimo optimalno poravnanje\n",
    "- njemacka, austrija, italija, francuska i hrvatska - napravi visestruko poravnanje\n",
    "- on ce nam dat HMM - hiden Markov Model !!!!!! sta ovo znaci\n",
    "- to je to, izmodeliramo smo model\n"
   ]
  },
  {
   "cell_type": "code",
   "execution_count": 197,
   "metadata": {},
   "outputs": [],
   "source": [
    "import pandas as pd\n",
    "import numpy as np\n",
    "import matplotlib.pyplot as plt"
   ]
  },
  {
   "cell_type": "code",
   "execution_count": 200,
   "metadata": {},
   "outputs": [
    {
     "name": "stdout",
     "output_type": "stream",
     "text": [
      "['A' 'A' 'A' 'A' 'A' 'A' 'A' 'A' 'A' 'A' 'A' 'A' 'A' 'A' 'A' 'A' 'A' 'A'\n",
      " 'A' 'A' 'A' 'A' 'A' 'A' 'A' 'A' 'A' 'A' 'A' 'A' 'A' 'A' 'A' 'A' 'A' 'A'\n",
      " 'A' 'B' 'C' 'E' 'E' 'E' 'E' 'E' 'E' 'E' 'E' 'E' 'D' 'D' 'C' 'B' 'B' 'B'\n",
      " 'B' 'A' 'B' 'B' 'B' 'C' 'C' 'E' 'E' 'E' 'E' 'E' 'E' 'D' 'C' 'B' 'A' 'A'\n",
      " 'A' 'A' 'A' 'A' 'A' 'A' 'A' 'A' 'A' 'A' 'B' 'B' 'C' 'C']\n"
     ]
    },
    {
     "data": {
      "text/plain": [
       "[<matplotlib.lines.Line2D at 0x7f8eff45e220>]"
      ]
     },
     "execution_count": 200,
     "metadata": {},
     "output_type": "execute_result"
    },
    {
     "data": {
      "image/png": "[encoded data removed]",
      "text/plain": [
       "<Figure size 432x288 with 1 Axes>"
      ]
     },
     "metadata": {
      "needs_background": "light"
     },
     "output_type": "display_data"
    }
   ],
   "source": [
    "data = pd.read_csv('data.txt', sep=\",\")\n",
    "data_croatia = data.drop(['Lat', 'Long', 'Province/State', 'Country/Region'], axis=1) #izbacim sirinu i duzinu\n",
    "data_croatia = data_croatia.diff(axis=1)\n",
    "data_croatia = data_croatia.drop(['1/22/20'], axis=1)\n",
    "data_croatia['9/18/21']=np.NaN\n",
    "data_croatia['9/19/21']=np.NaN\n",
    "data_croatia['9/20/21']=np.NaN\n",
    "data_croatia['9/21/21']=np.NaN\n",
    "data_croatia['9/22/21']=np.NaN\n",
    "my_array = data_croatia.values.reshape(7,87,order='F')\n",
    "my_array = my_array/4300000\n",
    "week_croatia = np.mean(my_array,axis=0)\n",
    "week_croatia = week_croatia[:-1]\n",
    "#y, x = np.histogram(week_croatia, bins=np.arange(51))\n",
    "#fig, ax = plt.subplots()\n",
    "#ax.plot(x[:-1], y)\n",
    "#fig.show()\n",
    "borders = np.histogram(week_croatia)[1]\n",
    "week_final = np.empty(86,dtype=str)\n",
    "for i in range(86): \n",
    "    if(week_croatia[i] <= borders[1]):\n",
    "        week_final[i]='A'\n",
    "    if((week_croatia[i] <= borders[2]) & (week_croatia[i] > borders[1])):\n",
    "        week_final[i]='B'\n",
    "    if((week_croatia[i] <= borders[3]) & (week_croatia[i] > borders[2])):\n",
    "        week_final[i]='C'\n",
    "    if((week_croatia[i] <= borders[4]) & (week_croatia[i] > borders[3])):\n",
    "        week_final[i]='D'\n",
    "    if((week_croatia[i] > borders[4])):\n",
    "        week_final[i]='E'\n",
    "print(week_final)\n",
    "plt.plot(week_croatia)"
   ]
  }
 ],
 "metadata": {
  "language_info": {
   "name": "python"
  },
  "orig_nbformat": 4
 },
 "nbformat": 4,
 "nbformat_minor": 2
}

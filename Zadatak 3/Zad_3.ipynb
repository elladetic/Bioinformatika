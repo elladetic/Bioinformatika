{
 "cells": [
  {
   "cell_type": "markdown",
   "metadata": {},
   "source": [
    "# Zadatak 3"
   ]
  },
  {
   "cell_type": "markdown",
   "metadata": {},
   "source": [
    "Tekst zadataka: \\\n",
    "U narednim zadacima cemo se baviti lokalnim poravnanjem: simulirajte 1000 {0, 1} - nizova duljine 200, i odredite - u svakom nizu - najdulji niz uspjeha (recimo da je \"1\" uspjeh); te duljine zapisite u datoteku i provjerite da je tako dobiveni histogram aproksimativno Gumbel distribuiran; analogno, simulirajte 1000 proteina (aminokiselinskih nizova), svaki duljine 200 (simulaciju provedite isto kao i za nizove {0,1}), i za svaki niz odredite optimalno lokalno poravnanje sa zadanim nizom (recimo, \"LALAHPEW\", ili nesto slicno); u datoteku zapisite score-ove tih poravnanja; kao i u {0,1}-slucaju, tako dobiveni histogram ce biti aproksimativno Gumbel distribuiran... time ste \"pokazali\" da je optimalno lokalno poravnanje \"ista\" stvar kao i trazenje najduljeg niza uspjeha!"
   ]
  },
  {
   "cell_type": "code",
   "execution_count": 4,
   "metadata": {},
   "outputs": [],
   "source": [
    "import random\n",
    "\n",
    "f1=open(\"acids.txt\", \"r\") ## reading acids\n",
    "ak=f1.readline()\n",
    "f1.close()\n",
    "\n",
    "bm=[] ## reading matrix\n",
    "f1=open(\"blosum50.txt\", \"r\")\n",
    "for i in range(20):\n",
    "    line=f1.readline()\n",
    "    vc=line.split()\n",
    "    bm.append(vc[:])\n",
    "for i in range(20): ## integer matrix\n",
    "    for j in range(20):\n",
    "        bm[i][j]=int(bm[i][j])\n",
    "\n",
    "x='HPEWAAKEGHIAAKE'\n",
    "y='PWALVNGSEEWA'\n",
    "m=len(x)\n",
    "n=len(y)\n",
    "\n",
    "niz=[0]*m+[1]*n\n",
    "\n",
    "\n",
    "sm=[] ## score matrix\n",
    "tmp=[]\n",
    "for i in range(m+1):\n",
    "    tmp.append(0)\n",
    "for i in range(n+1):\n",
    "    sm.append(tmp[:])\n",
    "\n",
    "## rubni uvjeti\n",
    "for i in range(n+1):\n",
    "    sm[i][0]=-8*i\n",
    "for i in range(m+1):\n",
    "    sm[0][i]=-8*i\n",
    "\n",
    "## rekurzija\n",
    "for i in range(1,n+1):\n",
    "    for j in range(1,m+1):\n",
    "        tmp=[]\n",
    "        tmp.append(sm[i-1][j]-8)\n",
    "        tmp.append(sm[i][j-1]-8)\n",
    "        bb=bm[ak.index(y[i-1])][ak.index(x[j-1])]\n",
    "        tmp.append(sm[i-1][j-1]+bb)\n",
    "        tmp.sort()\n",
    "        sm[i][j]=tmp[2]\n",
    "\n",
    "\n"
   ]
  },
  {
   "cell_type": "code",
   "execution_count": 5,
   "metadata": {},
   "outputs": [],
   "source": [
    "f=open(\"zad3.txt\", \"w\")\n",
    "\n",
    "from random import shuffle\n",
    "\n",
    "for i in range(1000):\n",
    "    skor=0\n",
    "    xx=''\n",
    "    yy=''\n",
    "    niz2=niz\n",
    "    shuffle(niz2)\n",
    "    j=0 ##x\n",
    "    k=0 ##y\n",
    "    for ii in range(m+n):\n",
    "        if ii==0:\n",
    "            if niz2[ii]==1:\n",
    "                xx=xx+'_'\n",
    "                yy=yy+y[k]\n",
    "                k=k+1\n",
    "            else:\n",
    "                xx=xx+x[j]\n",
    "                j=j+1\n",
    "        elif niz2[ii]==1 and niz2[ii-1]==1:\n",
    "            xx=xx+'_'\n",
    "            yy=yy+y[k]\n",
    "            k=k+1\n",
    "        elif niz2[ii]==1 and niz2[ii-1]==0:\n",
    "            yy=yy+y[k]\n",
    "            k=k+1\n",
    "        elif niz2[ii]==0 and niz2[ii-1]==0:\n",
    "            yy=yy+'_'\n",
    "            xx=xx+x[j]\n",
    "            j=j+1\n",
    "        elif niz2[ii]==0 and niz2[ii-1]==1:\n",
    "            xx=xx+x[j]\n",
    "            j=j+1\n",
    "    raz=len(xx)-len(yy)\n",
    "    if raz>0: ##x dulji\n",
    "        yy=yy+'_'*raz\n",
    "    elif raz<0: ##y dulji\n",
    "        xx=xx+'_'*(-raz)\n",
    "    for ii in range(len(xx)):\n",
    "        if xx[ii]=='_' or yy[ii]=='_':\n",
    "            skor=skor-8\n",
    "        else:\n",
    "            p=0\n",
    "            r=0\n",
    "            while xx[ii]!=ak[p]:\n",
    "                p=p+1\n",
    "            while yy[ii]!=ak[r]:\n",
    "                r=r+1\n",
    "            skor=skor+bm[p][r]\n",
    "    ##print i+1, \":\\n\", niz2, \"\\n\", xx, \"\\n\", yy, \"\\nskor=\",skor, \"\\n\"\n",
    "    f.write('%d ' % (skor))\n",
    "f.close()"
   ]
  },
  {
   "cell_type": "markdown",
   "metadata": {},
   "source": [
    "## Ellini pokusaji"
   ]
  },
  {
   "cell_type": "code",
   "execution_count": 6,
   "metadata": {},
   "outputs": [],
   "source": [
    "import numpy as np"
   ]
  },
  {
   "cell_type": "code",
   "execution_count": 25,
   "metadata": {},
   "outputs": [
    {
     "name": "stdout",
     "output_type": "stream",
     "text": [
      "1\n"
     ]
    }
   ],
   "source": [
    "def maxlength(s):\n",
    "    n = len(s)\n",
    "    ans = 0;\n",
    "    for i in range(n):\n",
    "         \n",
    "        # Count the number of contiguous 1's\n",
    "        if (s[i] == '1'):\n",
    "            count = 1\n",
    "            j = i + 1\n",
    "            while(j <= n - 1 and s[j] == '1'):\n",
    "                count += 1\n",
    "                j += 1\n",
    "            ans = max(ans, count)\n",
    "    return ans"
   ]
  },
  {
   "cell_type": "code",
   "execution_count": 30,
   "metadata": {},
   "outputs": [
    {
     "name": "stdout",
     "output_type": "stream",
     "text": [
      "Desired length random binary string is:  0111110\n"
     ]
    }
   ],
   "source": [
    "import random\n",
    "\n",
    "def rand_key(p):\n",
    "    key1 = \"\"\n",
    "    for i in range(p):\n",
    "        temp = str(random.randint(0, 1))\n",
    "        key1 += temp\n",
    "         \n",
    "    return(key1)"
   ]
  },
  {
   "cell_type": "code",
   "execution_count": 54,
   "metadata": {},
   "outputs": [
    {
     "data": {
      "text/plain": [
       "(array([ 34, 178, 263, 220, 143, 104,  34,  14,   6,   4]),\n",
       " array([ 3. ,  4.2,  5.4,  6.6,  7.8,  9. , 10.2, 11.4, 12.6, 13.8, 15. ]))"
      ]
     },
     "execution_count": 54,
     "metadata": {},
     "output_type": "execute_result"
    }
   ],
   "source": [
    "duljine = np.empty([1000])\n",
    "\n",
    "for i in range(1000):\n",
    "    niz = rand_key(200)\n",
    "    duljina = maxlength(niz)\n",
    "    #print(duljina)\n",
    "    duljine[i] = duljina\n",
    "\n",
    "np.histogram(duljine)"
   ]
  },
  {
   "cell_type": "code",
   "execution_count": 56,
   "metadata": {},
   "outputs": [
    {
     "data": {
      "image/png": "[encoded data removed]",
      "text/plain": [
       "<Figure size 432x288 with 1 Axes>"
      ]
     },
     "metadata": {
      "needs_background": "light"
     },
     "output_type": "display_data"
    }
   ],
   "source": [
    "from matplotlib import pyplot as plt \n",
    "  \n",
    "\n",
    "plt.hist(duljine) \n",
    "plt.title(\"histogram\") \n",
    "plt.show()"
   ]
  }
 ],
 "metadata": {
  "interpreter": {
   "hash": "eeb592eeb14baf80ba7e3ad598b9cc718d92fa62785d72005ca19f7c0e0c833d"
  },
  "kernelspec": {
   "display_name": "Python 3.8.5 64-bit ('base': conda)",
   "name": "python3"
  },
  "language_info": {
   "codemirror_mode": {
    "name": "ipython",
    "version": 3
   },
   "file_extension": ".py",
   "mimetype": "text/x-python",
   "name": "python",
   "nbconvert_exporter": "python",
   "pygments_lexer": "ipython3",
   "version": "3.8.5"
  },
  "orig_nbformat": 4
 },
 "nbformat": 4,
 "nbformat_minor": 2
}

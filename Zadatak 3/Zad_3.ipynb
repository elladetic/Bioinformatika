{
 "cells": [
  {
   "cell_type": "markdown",
   "metadata": {},
   "source": [
    "# Zadatak 3"
   ]
  },
  {
   "cell_type": "markdown",
   "metadata": {},
   "source": [
    "Tekst zadataka: \\\n",
    "U narednim zadacima cemo se baviti lokalnim poravnanjem: simulirajte 1000 {0, 1} - nizova duljine 200, i odredite - u svakom nizu - najdulji niz uspjeha (recimo da je \"1\" uspjeh); te duljine zapisite u datoteku i provjerite da je tako dobiveni histogram aproksimativno Gumbel distribuiran; analogno, simulirajte 1000 proteina (aminokiselinskih nizova), svaki duljine 200 (simulaciju provedite isto kao i za nizove {0,1}), i za svaki niz odredite optimalno lokalno poravnanje sa zadanim nizom (recimo, \"LALAHPEW\", ili nesto slicno); u datoteku zapisite score-ove tih poravnanja; kao i u {0,1}-slucaju, tako dobiveni histogram ce biti aproksimativno Gumbel distribuiran... time ste \"pokazali\" da je optimalno lokalno poravnanje \"ista\" stvar kao i trazenje najduljeg niza uspjeha!"
   ]
  },
  {
   "cell_type": "code",
   "execution_count": 4,
   "metadata": {},
   "outputs": [],
   "source": [
    "import random\n",
    "\n",
    "f1=open(\"acids.txt\", \"r\") ## reading acids\n",
    "ak=f1.readline()\n",
    "f1.close()\n",
    "\n",
    "bm=[] ## reading matrix\n",
    "f1=open(\"blosum50.txt\", \"r\")\n",
    "for i in range(20):\n",
    "    line=f1.readline()\n",
    "    vc=line.split()\n",
    "    bm.append(vc[:])\n",
    "for i in range(20): ## integer matrix\n",
    "    for j in range(20):\n",
    "        bm[i][j]=int(bm[i][j])\n",
    "\n",
    "x='HPEWAAKEGHIAAKE'\n",
    "y='PWALVNGSEEWA'\n",
    "m=len(x)\n",
    "n=len(y)\n",
    "\n",
    "niz=[0]*m+[1]*n\n",
    "\n",
    "\n",
    "sm=[] ## score matrix\n",
    "tmp=[]\n",
    "for i in range(m+1):\n",
    "    tmp.append(0)\n",
    "for i in range(n+1):\n",
    "    sm.append(tmp[:])\n",
    "\n",
    "## rubni uvjeti\n",
    "for i in range(n+1):\n",
    "    sm[i][0]=-8*i\n",
    "for i in range(m+1):\n",
    "    sm[0][i]=-8*i\n",
    "\n",
    "## rekurzija\n",
    "for i in range(1,n+1):\n",
    "    for j in range(1,m+1):\n",
    "        tmp=[]\n",
    "        tmp.append(sm[i-1][j]-8)\n",
    "        tmp.append(sm[i][j-1]-8)\n",
    "        bb=bm[ak.index(y[i-1])][ak.index(x[j-1])]\n",
    "        tmp.append(sm[i-1][j-1]+bb)\n",
    "        tmp.sort()\n",
    "        sm[i][j]=tmp[2]\n",
    "\n",
    "\n"
   ]
  },
  {
   "cell_type": "code",
   "execution_count": 117,
   "metadata": {},
   "outputs": [
    {
     "ename": "TypeError",
     "evalue": "'str' object does not support item assignment",
     "output_type": "error",
     "traceback": [
      "\u001b[0;31m---------------------------------------------------------------------------\u001b[0m",
      "\u001b[0;31mTypeError\u001b[0m                                 Traceback (most recent call last)",
      "\u001b[0;32m/var/folders/d3/xr9k6gp148s_pc6q399vjm2h0000gn/T/ipykernel_1535/2661018720.py\u001b[0m in \u001b[0;36m<module>\u001b[0;34m\u001b[0m\n\u001b[1;32m      8\u001b[0m     \u001b[0myy\u001b[0m\u001b[0;34m=\u001b[0m\u001b[0;34m''\u001b[0m\u001b[0;34m\u001b[0m\u001b[0;34m\u001b[0m\u001b[0m\n\u001b[1;32m      9\u001b[0m     \u001b[0mniz2\u001b[0m\u001b[0;34m=\u001b[0m\u001b[0mniz\u001b[0m\u001b[0;34m\u001b[0m\u001b[0;34m\u001b[0m\u001b[0m\n\u001b[0;32m---> 10\u001b[0;31m     \u001b[0mshuffle\u001b[0m\u001b[0;34m(\u001b[0m\u001b[0mniz2\u001b[0m\u001b[0;34m)\u001b[0m\u001b[0;34m\u001b[0m\u001b[0;34m\u001b[0m\u001b[0m\n\u001b[0m\u001b[1;32m     11\u001b[0m     \u001b[0mj\u001b[0m\u001b[0;34m=\u001b[0m\u001b[0;36m0\u001b[0m \u001b[0;31m##x\u001b[0m\u001b[0;34m\u001b[0m\u001b[0;34m\u001b[0m\u001b[0m\n\u001b[1;32m     12\u001b[0m     \u001b[0mk\u001b[0m\u001b[0;34m=\u001b[0m\u001b[0;36m0\u001b[0m \u001b[0;31m##y\u001b[0m\u001b[0;34m\u001b[0m\u001b[0;34m\u001b[0m\u001b[0m\n",
      "\u001b[0;32m~/opt/anaconda3/lib/python3.8/random.py\u001b[0m in \u001b[0;36mshuffle\u001b[0;34m(self, x, random)\u001b[0m\n\u001b[1;32m    305\u001b[0m                 \u001b[0;31m# pick an element in x[:i+1] with which to exchange x[i]\u001b[0m\u001b[0;34m\u001b[0m\u001b[0;34m\u001b[0m\u001b[0;34m\u001b[0m\u001b[0m\n\u001b[1;32m    306\u001b[0m                 \u001b[0mj\u001b[0m \u001b[0;34m=\u001b[0m \u001b[0mrandbelow\u001b[0m\u001b[0;34m(\u001b[0m\u001b[0mi\u001b[0m\u001b[0;34m+\u001b[0m\u001b[0;36m1\u001b[0m\u001b[0;34m)\u001b[0m\u001b[0;34m\u001b[0m\u001b[0;34m\u001b[0m\u001b[0m\n\u001b[0;32m--> 307\u001b[0;31m                 \u001b[0mx\u001b[0m\u001b[0;34m[\u001b[0m\u001b[0mi\u001b[0m\u001b[0;34m]\u001b[0m\u001b[0;34m,\u001b[0m \u001b[0mx\u001b[0m\u001b[0;34m[\u001b[0m\u001b[0mj\u001b[0m\u001b[0;34m]\u001b[0m \u001b[0;34m=\u001b[0m \u001b[0mx\u001b[0m\u001b[0;34m[\u001b[0m\u001b[0mj\u001b[0m\u001b[0;34m]\u001b[0m\u001b[0;34m,\u001b[0m \u001b[0mx\u001b[0m\u001b[0;34m[\u001b[0m\u001b[0mi\u001b[0m\u001b[0;34m]\u001b[0m\u001b[0;34m\u001b[0m\u001b[0;34m\u001b[0m\u001b[0m\n\u001b[0m\u001b[1;32m    308\u001b[0m         \u001b[0;32melse\u001b[0m\u001b[0;34m:\u001b[0m\u001b[0;34m\u001b[0m\u001b[0;34m\u001b[0m\u001b[0m\n\u001b[1;32m    309\u001b[0m             \u001b[0m_int\u001b[0m \u001b[0;34m=\u001b[0m \u001b[0mint\u001b[0m\u001b[0;34m\u001b[0m\u001b[0;34m\u001b[0m\u001b[0m\n",
      "\u001b[0;31mTypeError\u001b[0m: 'str' object does not support item assignment"
     ]
    }
   ],
   "source": [
    "f=open(\"zad3.txt\", \"w\")\n",
    "\n",
    "from random import shuffle\n",
    "\n",
    "for i in range(1000):\n",
    "    skor=0\n",
    "    xx=''\n",
    "    yy=''\n",
    "    niz2=niz\n",
    "    shuffle(niz2)\n",
    "    j=0 ##x\n",
    "    k=0 ##y\n",
    "    for ii in range(m+n):\n",
    "        if ii==0:\n",
    "            if niz2[ii]==1:\n",
    "                xx=xx+'_'\n",
    "                yy=yy+y[k]\n",
    "                k=k+1\n",
    "            else:\n",
    "                xx=xx+x[j]\n",
    "                j=j+1\n",
    "        elif niz2[ii]==1 and niz2[ii-1]==1:\n",
    "            xx=xx+'_'\n",
    "            yy=yy+y[k]\n",
    "            k=k+1\n",
    "        elif niz2[ii]==1 and niz2[ii-1]==0:\n",
    "            yy=yy+y[k]\n",
    "            k=k+1\n",
    "        elif niz2[ii]==0 and niz2[ii-1]==0:\n",
    "            yy=yy+'_'\n",
    "            xx=xx+x[j]\n",
    "            j=j+1\n",
    "        elif niz2[ii]==0 and niz2[ii-1]==1:\n",
    "            xx=xx+x[j]\n",
    "            j=j+1\n",
    "    raz=len(xx)-len(yy)\n",
    "    if raz>0: ##x dulji\n",
    "        yy=yy+'_'*raz\n",
    "    elif raz<0: ##y dulji\n",
    "        xx=xx+'_'*(-raz)\n",
    "    for ii in range(len(xx)):\n",
    "        if xx[ii]=='_' or yy[ii]=='_':\n",
    "            skor=skor-8\n",
    "        else:\n",
    "            p=0\n",
    "            r=0\n",
    "            while xx[ii]!=ak[p]:\n",
    "                p=p+1\n",
    "            while yy[ii]!=ak[r]:\n",
    "                r=r+1\n",
    "            skor=skor+bm[p][r]\n",
    "    ##print i+1, \":\\n\", niz2, \"\\n\", xx, \"\\n\", yy, \"\\nskor=\",skor, \"\\n\"\n",
    "    f.write('%d ' % (skor))\n",
    "f.close()"
   ]
  },
  {
   "cell_type": "markdown",
   "metadata": {},
   "source": [
    "## Ellini pokusaji"
   ]
  },
  {
   "cell_type": "code",
   "execution_count": 6,
   "metadata": {},
   "outputs": [],
   "source": [
    "import numpy as np"
   ]
  },
  {
   "cell_type": "code",
   "execution_count": 25,
   "metadata": {},
   "outputs": [
    {
     "name": "stdout",
     "output_type": "stream",
     "text": [
      "1\n"
     ]
    }
   ],
   "source": [
    "def maxlength(s): #trazi najdulji podniz jedinica u binarnom nizu\n",
    "    n = len(s)\n",
    "    ans = 0;\n",
    "    for i in range(n):\n",
    "         \n",
    "        # Count the number of contiguous 1's\n",
    "        if (s[i] == '1'):\n",
    "            count = 1\n",
    "            j = i + 1\n",
    "            while(j <= n - 1 and s[j] == '1'):\n",
    "                count += 1\n",
    "                j += 1\n",
    "            ans = max(ans, count)\n",
    "    return ans"
   ]
  },
  {
   "cell_type": "code",
   "execution_count": 120,
   "metadata": {},
   "outputs": [
    {
     "data": {
      "text/plain": [
       "'11011111100100100100100110101011101011100001001000011110100010110001011011010111110011100101011001101000100000001110010101100101010011011111101111001100101100000101010111110010011110101000001000111010'"
      ]
     },
     "execution_count": 120,
     "metadata": {},
     "output_type": "execute_result"
    }
   ],
   "source": [
    "import random\n",
    "\n",
    "def rand_key(p): #generira random binary string duljine p\n",
    "    key1 = \"\"\n",
    "    for i in range(p):\n",
    "        temp = str(random.randint(0, 1))\n",
    "        key1 += temp\n",
    "         \n",
    "    return(key1)\n",
    "\n",
    "rand_key(200) #primjer random generiranog niza duljine 200"
   ]
  },
  {
   "cell_type": "code",
   "execution_count": 121,
   "metadata": {},
   "outputs": [
    {
     "data": {
      "text/plain": [
       "6.0"
      ]
     },
     "execution_count": 121,
     "metadata": {},
     "output_type": "execute_result"
    }
   ],
   "source": [
    "duljine = np.empty([1000])\n",
    "\n",
    "for i in range(1000): #generiram 1000 nizova duljine 200\n",
    "    niz = rand_key(200)\n",
    "    duljina = maxlength(niz)\n",
    "    #print(duljina)\n",
    "    duljine[i] = duljina\n",
    "\n",
    "duljine[3] #ovo je duljina podniza jedinica trećeg binarnog niza"
   ]
  },
  {
   "cell_type": "code",
   "execution_count": 123,
   "metadata": {},
   "outputs": [
    {
     "data": {
      "image/png": "[encoded data removed]",
      "text/plain": [
       "<Figure size 432x288 with 1 Axes>"
      ]
     },
     "metadata": {
      "needs_background": "light"
     },
     "output_type": "display_data"
    }
   ],
   "source": [
    "from matplotlib import pyplot as plt \n",
    "\n",
    "plt.hist(duljine) \n",
    "plt.title(\"Ellin histogram novcica\") \n",
    "plt.show()"
   ]
  },
  {
   "cell_type": "markdown",
   "metadata": {},
   "source": [
    "## Simulacija proteina"
   ]
  },
  {
   "cell_type": "code",
   "execution_count": 141,
   "metadata": {},
   "outputs": [
    {
     "data": {
      "text/plain": [
       "'TQEDTYIYNDIMKEQRQLNQMIRFPQNGTGLINENATRQGQCLETKLKQDGLIQQCKVYMEDLSQWDRIGGGWHEKCTSPHSYWWWWGKICARFWDKPVAYMKHGHSEFQSCPECDVQHGIYGMQVEQAYTELRYNGIGCHVIQVIQHENPIIMTGCMVESVDKKWYCNFSHMAPNPTDWGFVTNNFQATFRQNEAETHQ'"
      ]
     },
     "execution_count": 141,
     "metadata": {},
     "output_type": "execute_result"
    }
   ],
   "source": [
    "#proteini = np.empty([1000,200], dtype = str)\n",
    "proteini = ['']*1000\n",
    "\n",
    "import random\n",
    "\n",
    "def random_id(length):\n",
    "    alpha = 'ARNDCQEGHILKMFPSTWYV'\n",
    "    id = ''\n",
    "    for i in range(0,length):\n",
    "        id += random.choice(alpha)\n",
    "    return id\n",
    "\n",
    "for i in range(1000):\n",
    "    proteini[i] = random_id(200)\n",
    "\n",
    "proteini[2] #ovo je random neki protein\n",
    "    "
   ]
  },
  {
   "cell_type": "code",
   "execution_count": 126,
   "metadata": {},
   "outputs": [],
   "source": [
    "#x = proteini[3]\n",
    "score = np.empty([1000]) #array scoreva\n",
    "\n",
    "for z in range(1000):\n",
    "    x=proteini[z]\n",
    "    y='LALAHPEW' #ovo je zadani niz\n",
    "    m=len(x)\n",
    "    n=len(y)\n",
    "    sm=[]\n",
    "    tmp=[]\n",
    "    for i in range(m+1):\n",
    "        tmp.append(0)\n",
    "    for i in range(n+1):\n",
    "        sm.append(tmp[:])\n",
    "    for i in range(n+1): #rubni uvjeti\n",
    "        sm[i][0]=0\n",
    "    for i in range(m+1):\n",
    "        sm[0][i]=0\n",
    "    for i in range(1,n+1): #rekurzija\n",
    "        for j in range(1,m+1):\n",
    "            tmp=[]\n",
    "            tmp.append(0)\n",
    "            tmp.append(sm[i-1][j]-8)\n",
    "            tmp.append(sm[i][j-1]-8)\n",
    "            bb=bm[ak.index(y[i-1])][ak.index(x[j-1])]\n",
    "            tmp.append(sm[i-1][j-1]+bb)\n",
    "            tmp.sort()\n",
    "            sm[i][j]=tmp[3]\n",
    "    sm2 = np.array(sm)\n",
    "    index = np.where(sm2 == sm2.max())\n",
    "    #print(\"ovo je indeks\", type(index[0]))\n",
    "    #print(index[0].astype(int))\n",
    "    #print(\"type\", type(index))\n",
    "    #index_red = int(index[0])\n",
    "    #index_stupac = int(index[1])\n",
    "    score[z] = sm2.max()\n",
    "    #print(sm[index[0]][index[1]])\n",
    "\n",
    "        "
   ]
  },
  {
   "cell_type": "code",
   "execution_count": 128,
   "metadata": {},
   "outputs": [
    {
     "data": {
      "image/png": "[encoded data removed]",
      "text/plain": [
       "<Figure size 432x288 with 1 Axes>"
      ]
     },
     "metadata": {
      "needs_background": "light"
     },
     "output_type": "display_data"
    }
   ],
   "source": [
    "plt.hist(score, color=\"yellow\") \n",
    "plt.title(\"Ellin histogram - proteini\") \n",
    "plt.show()"
   ]
  },
  {
   "cell_type": "code",
   "execution_count": 143,
   "metadata": {},
   "outputs": [],
   "source": [
    "proteini2 = ['']*1000\n",
    "\n",
    "for i in range(1000):\n",
    "    random_duljina = random.randint(100, 1000)\n",
    "    alpha = 'ARNDCQEGHILKMFPSTWYV'\n",
    "    id = ''\n",
    "    for z in range(0,random_duljina):\n",
    "        id += random.choice(alpha)\n",
    "    proteini2[i] = id\n"
   ]
  },
  {
   "cell_type": "code",
   "execution_count": 145,
   "metadata": {},
   "outputs": [
    {
     "data": {
      "image/png": "[encoded data removed]",
      "text/plain": [
       "<Figure size 432x288 with 1 Axes>"
      ]
     },
     "metadata": {
      "needs_background": "light"
     },
     "output_type": "display_data"
    }
   ],
   "source": [
    "#x = proteini[3]\n",
    "score2 = np.empty([1000]) #array scoreva\n",
    "\n",
    "for z in range(1000):\n",
    "    x=proteini2[z]\n",
    "    y='LALAHPEW' #ovo je zadani niz\n",
    "    m=len(x)\n",
    "    n=len(y)\n",
    "    sm=[]\n",
    "    tmp=[]\n",
    "    for i in range(m+1):\n",
    "        tmp.append(0)\n",
    "    for i in range(n+1):\n",
    "        sm.append(tmp[:])\n",
    "    for i in range(n+1): #rubni uvjeti\n",
    "        sm[i][0]=0\n",
    "    for i in range(m+1):\n",
    "        sm[0][i]=0\n",
    "    for i in range(1,n+1): #rekurzija\n",
    "        for j in range(1,m+1):\n",
    "            tmp=[]\n",
    "            tmp.append(0)\n",
    "            tmp.append(sm[i-1][j]-8)\n",
    "            tmp.append(sm[i][j-1]-8)\n",
    "            bb=bm[ak.index(y[i-1])][ak.index(x[j-1])]\n",
    "            tmp.append(sm[i-1][j-1]+bb)\n",
    "            tmp.sort()\n",
    "            sm[i][j]=tmp[3]\n",
    "    sm2 = np.array(sm)\n",
    "    index = np.where(sm2 == sm2.max())\n",
    "    #print(\"ovo je indeks\", type(index[0]))\n",
    "    #print(index[0].astype(int))\n",
    "    #print(\"type\", type(index))\n",
    "    #index_red = int(index[0])\n",
    "    #index_stupac = int(index[1])\n",
    "    score2[z] = sm2.max()\n",
    "    #print(sm[index[0]][index[1]])\n",
    "\n",
    "\n",
    "plt.hist(score2, color=\"green\") \n",
    "plt.title(\"Ellin histogram - proteini oni s različitim duljima\") \n",
    "plt.show()\n",
    "\n",
    "        "
   ]
  }
 ],
 "metadata": {
  "interpreter": {
   "hash": "eeb592eeb14baf80ba7e3ad598b9cc718d92fa62785d72005ca19f7c0e0c833d"
  },
  "kernelspec": {
   "display_name": "Python 3.8.5 64-bit ('base': conda)",
   "name": "python3"
  },
  "language_info": {
   "codemirror_mode": {
    "name": "ipython",
    "version": 3
   },
   "file_extension": ".py",
   "mimetype": "text/x-python",
   "name": "python",
   "nbconvert_exporter": "python",
   "pygments_lexer": "ipython3",
   "version": "3.8.5"
  },
  "orig_nbformat": 4
 },
 "nbformat": 4,
 "nbformat_minor": 2
}

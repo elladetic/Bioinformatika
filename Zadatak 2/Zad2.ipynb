{
 "cells": [
  {
   "cell_type": "markdown",
   "metadata": {},
   "source": [
    "# Bioinformatika 2. zadatka"
   ]
  },
  {
   "cell_type": "markdown",
   "metadata": {},
   "source": [
    "Tekst zadatka: \n",
    "odredite optimalno lokalno poravnanje za par nizova; za nizove uzmite x=\"PAPAHPEWA\", y=\"PW\"; matrica i aminokiseline kao i gore; algoritam koji radite se zove Smith-Watermanov algoritam (poduze objasnjenje ovdje); ukratko, potrebne su dvije modifikacije u odnosu na zadatak 1: i) u matrici dinamickog programiranja NE dozvoljavate negativne scoreove, nego je minimalni score 0; to ima utjecaja na inicijalizaciju, i rekurziju; ii) traceback ne krece od doljnjeg desnog ruba, nego od najvece vrijednosti u matrici, i zavrsava kada se pogodi 0 (a ne u gornjem lijevom uglu); dodatno, konciznije, objasnjenje je ovdje  "
   ]
  },
  {
   "cell_type": "markdown",
   "metadata": {},
   "source": [
    "### Naš način:"
   ]
  },
  {
   "cell_type": "code",
   "execution_count": 8,
   "metadata": {},
   "outputs": [],
   "source": [
    "f1=open(\"acids.txt\", \"r\") ##otvara popis svih aminokiselina\n",
    "ak=f1.readline() #string onaj u datoteki aminokiselina\n",
    "f1.close()  #zatvara datoteku\n",
    "\n",
    "bm=[] #matrica u koju spremamo sadržaj iz blosum50\n",
    "f1=open(\"blosum50.txt\", \"r\")\n",
    "for i in range(20):\n",
    "    line=f1.readline()\n",
    "\n",
    "    vc=line.split()\n",
    "    bm.append(vc[:])\n",
    "for i in range(20):\n",
    "    for j in range(20):\n",
    "        bm[i][j]=int(bm[i][j]) #pretvara string u broj\n",
    "f1.close() #zatvara datoteku"
   ]
  },
  {
   "cell_type": "code",
   "execution_count": 9,
   "metadata": {},
   "outputs": [],
   "source": [
    "x=\"PAPAHPEWA\"\n",
    "y='PW'\n",
    "m=len(x)\n",
    "n=len(y)\n",
    "\n",
    "sm=[]\n",
    "tmp=[]\n",
    "for i in range(m+1):\n",
    "    tmp.append(0)\n",
    "for i in range(n+1):\n",
    "    sm.append(tmp[:])\n",
    "\n",
    "\n",
    "for i in range(n+1): #rubni uvjeti\n",
    "    sm[i][0]=0\n",
    "for i in range(m+1):\n",
    "    sm[0][i]=0\n",
    "\n",
    "\n",
    "for i in range(1,n+1): #rekurzija\n",
    "    for j in range(1,m+1):\n",
    "        tmp=[]\n",
    "        tmp.append(0)\n",
    "        tmp.append(sm[i-1][j]-8)\n",
    "        tmp.append(sm[i][j-1]-8)\n",
    "        bb=bm[ak.index(y[i-1])][ak.index(x[j-1])]\n",
    "        tmp.append(sm[i-1][j-1]+bb)\n",
    "        tmp.sort()\n",
    "        sm[i][j]=tmp[3]\n",
    "    "
   ]
  },
  {
   "cell_type": "markdown",
   "metadata": {},
   "source": [
    "### Traceback"
   ]
  },
  {
   "cell_type": "code",
   "execution_count": 10,
   "metadata": {},
   "outputs": [],
   "source": [
    "import numpy as np\n",
    "\n",
    "sm2 = np.array(sm)\n",
    "index = np.where(sm2 == sm2.max())\n",
    "index_red = int(index[0])\n",
    "index_stupac = int(index[1])"
   ]
  },
  {
   "cell_type": "code",
   "execution_count": 12,
   "metadata": {},
   "outputs": [
    {
     "name": "stdout",
     "output_type": "stream",
     "text": [
      "17\n",
      "Pozicija 1 7\n",
      "Pozicija 1 6\n",
      "Pozicija 0 5\n",
      "PEW\n",
      "P-W\n"
     ]
    }
   ],
   "source": [
    "i=index_red\n",
    "j=index_stupac\n",
    "print(sm[i][j])\n",
    "a=[]\n",
    "b=[]\n",
    "#8 je kazna poravnanja, kad imam -, prof zadao\n",
    "while (i>0 and sm[i][j]!= 0) or (j>0 and sm[i][j] != 0):\n",
    "    if sm[i][j]==sm[i-1][j]-8: #provjerava gore\n",
    "        a.append('-')\n",
    "        b.append(y[i-1])\n",
    "        i=i-1\n",
    "        print(\"Pozicija\", i, j)\n",
    "    if sm[i][j]==sm[i][j-1]-8: #provjera lijevo\n",
    "        b.append('-')\n",
    "        a.append(x[j-1])\n",
    "        j=j-1\n",
    "        print(\"Pozicija\", i, j)\n",
    "    else:  #provjerava dijagonalno\n",
    "       a.append(x[j-1])\n",
    "       b.append(y[i-1])\n",
    "       j=j-1\n",
    "       i=i-1\n",
    "       print(\"Pozicija\", i, j)\n",
    "       \n",
    "if i==0 and j>0:  #dođem do gornjeg ruba\n",
    "    while j<0:\n",
    "        a.append(x[j-1])\n",
    "        b.append('-')\n",
    "        z=z-1\n",
    "if j==0 and i>0:  #dođem do lijevog ruba\n",
    "    while i<0:\n",
    "        a.append('-')\n",
    "        b.append(y[i-1])\n",
    "        i=i-1\n",
    "        \n",
    "a.reverse()\n",
    "b.reverse()\n",
    "ln=len(a)\n",
    "x1=''\n",
    "y1=''\n",
    "for i in range (ln):\n",
    "    x1=x1+a[i]\n",
    "    y1=y1+b[i]\n",
    "print(x1)\n",
    "print(y1)"
   ]
  }
 ],
 "metadata": {
  "interpreter": {
   "hash": "eeb592eeb14baf80ba7e3ad598b9cc718d92fa62785d72005ca19f7c0e0c833d"
  },
  "kernelspec": {
   "display_name": "Python 3.8.5 64-bit ('base': conda)",
   "name": "python3"
  },
  "language_info": {
   "codemirror_mode": {
    "name": "ipython",
    "version": 3
   },
   "file_extension": ".py",
   "mimetype": "text/x-python",
   "name": "python",
   "nbconvert_exporter": "python",
   "pygments_lexer": "ipython3",
   "version": "3.8.5"
  },
  "orig_nbformat": 4
 },
 "nbformat": 4,
 "nbformat_minor": 2
}
